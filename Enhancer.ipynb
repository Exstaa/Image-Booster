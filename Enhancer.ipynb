{
 "cells": [
  {
   "cell_type": "code",
   "execution_count": 1,
   "id": "66fd2c6c-56ec-408d-96e5-52c6c437ac2b",
   "metadata": {},
   "outputs": [],
   "source": [
    "import cv2\n",
    "from cv2 import dnn_superres"
   ]
  },
  {
   "cell_type": "code",
   "execution_count": 4,
   "id": "4987d246-2d58-455f-aea5-09c7ea68c3e3",
   "metadata": {},
   "outputs": [],
   "source": [
    "sr = dnn_superres.DnnSuperResImpl_create()\n",
    "\n",
    "path = 'EDSR_x4.pb'\n",
    "sr.readModel(path)\n",
    "\n",
    "sr.setModel('edsr', 4)"
   ]
  },
  {
   "cell_type": "code",
   "execution_count": 5,
   "id": "145e5859-2320-4e87-8d70-8fc0a1116547",
   "metadata": {},
   "outputs": [],
   "source": [
    "image = cv2.imread('test.png')"
   ]
  },
  {
   "cell_type": "code",
   "execution_count": 6,
   "id": "02913061-6663-403a-aa4f-7519f4c685a0",
   "metadata": {},
   "outputs": [],
   "source": [
    "upscaled = sr.upsample(image)"
   ]
  },
  {
   "cell_type": "code",
   "execution_count": 7,
   "id": "38312080-d2b2-4406-af03-d7ae29d4e71a",
   "metadata": {},
   "outputs": [
    {
     "data": {
      "text/plain": [
       "True"
      ]
     },
     "execution_count": 7,
     "metadata": {},
     "output_type": "execute_result"
    }
   ],
   "source": [
    "cv2.imwrite('upscaled.png', upscaled)"
   ]
  },
  {
   "cell_type": "code",
   "execution_count": 8,
   "id": "a3ad7268-f596-4f02-85ed-fa0a714e539d",
   "metadata": {},
   "outputs": [
    {
     "data": {
      "text/plain": [
       "True"
      ]
     },
     "execution_count": 8,
     "metadata": {},
     "output_type": "execute_result"
    }
   ],
   "source": [
    "bicubic = cv2.resize(image, (upscaled.shape[1], upscaled.shape[0]), interpolation=cv2.INTER_CUBIC)\n",
    "\n",
    "cv2.imwrite('bicubic_test.png', bicubic)"
   ]
  },
  {
   "cell_type": "code",
   "execution_count": null,
   "id": "9244e813-1567-459a-a356-436324238b7e",
   "metadata": {},
   "outputs": [],
   "source": []
  }
 ],
 "metadata": {
  "kernelspec": {
   "display_name": "Python 3 (ipykernel)",
   "language": "python",
   "name": "python3"
  },
  "language_info": {
   "codemirror_mode": {
    "name": "ipython",
    "version": 3
   },
   "file_extension": ".py",
   "mimetype": "text/x-python",
   "name": "python",
   "nbconvert_exporter": "python",
   "pygments_lexer": "ipython3",
   "version": "3.11.7"
  }
 },
 "nbformat": 4,
 "nbformat_minor": 5
}
